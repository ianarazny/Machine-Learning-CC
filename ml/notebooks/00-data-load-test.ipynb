{
 "cells": [
  {
   "cell_type": "code",
   "execution_count": null,
   "metadata": {},
   "outputs": [
    {
     "name": "stdout",
     "output_type": "stream",
     "text": [
      "  wscale;rto;rtt;mss;pmtu;rcvmss;advmss;cwnd;ssthresh;bytes_sent;bytes_retrans;bytes_acked;segs_out;segs_in;data_segs_out;lastrcv;delivered;rcv_space;rcv_ssthresh;\n",
      "0  7;276;74.887;1448;1500;536;1448;16;52;0;0;0;0;...                                                                                                               \n",
      "1  7;280;76.279;1448;1500;536;1448;14;52;26064;0;...                                                                                                               \n",
      "2  7;272;69.385;1448;1500;536;1448;4;52;37648;0;5...                                                                                                               \n",
      "3  7;240;39.996;1448;1500;536;1448;4;52;63712;0;7...                                                                                                               \n",
      "4  7;232;28.081;1448;1500;536;1448;14;52;101360;0...                                                                                                               \n"
     ]
    }
   ],
   "source": [
    "import sys\n",
    "import os\n",
    "\n",
    "sys.path.append(os.path.abspath(os.path.join(os.getcwd(), '..')))\n",
    "\n",
    "from scripts.data_loader import load_measurements\n",
    "\n",
    "df = load_measurements('bbr')\n",
    "print(df.head())"
   ]
  },
  {
   "cell_type": "markdown",
   "metadata": {},
   "source": []
  },
  {
   "cell_type": "code",
   "execution_count": null,
   "metadata": {},
   "outputs": [
    {
     "name": "stdout",
     "output_type": "stream",
     "text": [
      "Index(['wscale', 'rto', 'rtt', 'mss', 'pmtu', 'rcvmss', 'advmss', 'cwnd',\n",
      "       'ssthresh', 'bytes_sent', 'bytes_retrans', 'bytes_acked', 'segs_out',\n",
      "       'segs_in', 'data_segs_out', 'lastrcv', 'delivered', 'rcv_space',\n",
      "       'rcv_ssthresh', 'Unnamed: 19'],\n",
      "      dtype='object')\n"
     ]
    }
   ],
   "source": [
    "# Read columns\n",
    "import pandas as pd\n",
    "\n",
    "df = pd.read_csv('../data/bbr/bbr1.log.csv', sep=';')  \n",
    "print(df.columns)"
   ]
  }
 ],
 "metadata": {
  "kernelspec": {
   "display_name": "venv",
   "language": "python",
   "name": "python3"
  },
  "language_info": {
   "codemirror_mode": {
    "name": "ipython",
    "version": 3
   },
   "file_extension": ".py",
   "mimetype": "text/x-python",
   "name": "python",
   "nbconvert_exporter": "python",
   "pygments_lexer": "ipython3",
   "version": "3.13.5"
  }
 },
 "nbformat": 4,
 "nbformat_minor": 4
}
