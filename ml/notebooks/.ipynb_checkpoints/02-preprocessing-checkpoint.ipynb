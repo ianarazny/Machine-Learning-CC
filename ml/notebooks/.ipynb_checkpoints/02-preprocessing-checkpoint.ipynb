{
 "cells": [
  {
   "cell_type": "code",
   "execution_count": null,
   "id": "8791f2b3-b38c-43bd-82df-b87a90706f5e",
   "metadata": {},
   "outputs": [],
   "source": [
    "import pandas as pd\n",
    "from sklearn.model_selection import train_test_split\n",
    "from sklearn.preprocessing import StandardScaler\n",
    "from scripts.data_loader import load_measurements\n",
    "\n",
    "df = load_measurements('TCP_variant_1')\n",
    "\n",
    "# Labeling\n",
    "df['congestion_event'] = (df['cwnd'].diff().shift(-1) < -10).astype(int)\n",
    "df.dropna(inplace=True)\n",
    "\n",
    "features = ['cwnd', 'rtt', 'retransmissions', 'throughput', 'packets_lost']\n",
    "X = df[features]\n",
    "y = df['congestion_event']\n",
    "\n",
    "X_train, X_test, y_train, y_test = train_test_split(X, y, test_size=0.2, random_state=42)\n",
    "\n",
    "# Normalize data\n",
    "scaler = StandardScaler()\n",
    "X_train_scaled = scaler.fit_transform(X_train)\n",
    "X_test_scaled = scaler.transform(X_test)\n"
   ]
  }
 ],
 "metadata": {
  "kernelspec": {
   "display_name": "Python 3 (ipykernel)",
   "language": "python",
   "name": "python3"
  },
  "language_info": {
   "codemirror_mode": {
    "name": "ipython",
    "version": 3
   },
   "file_extension": ".py",
   "mimetype": "text/x-python",
   "name": "python",
   "nbconvert_exporter": "python",
   "pygments_lexer": "ipython3",
   "version": "3.13.5"
  }
 },
 "nbformat": 4,
 "nbformat_minor": 5
}
