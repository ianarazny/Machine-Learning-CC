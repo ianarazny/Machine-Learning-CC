{
 "cells": [
  {
   "cell_type": "code",
   "execution_count": 10,
   "metadata": {},
   "outputs": [
    {
     "name": "stdout",
     "output_type": "stream",
     "text": [
      "(15442, 10)                          ts    src_ip    dst_ip  src_port  dst_port  protocol  \\\n",
      "0 2025-09-05 20:58:12+00:00  10.0.0.1  10.0.0.2      5201     55886         6   \n",
      "1 2025-09-05 20:58:12+00:00  10.0.0.1  10.0.0.2      5201     55884         6   \n",
      "2 2025-09-05 20:58:13+00:00  10.0.0.1  10.0.0.2      5201     55886         6   \n",
      "\n",
      "   throughput_bps_t     pps_t  y_bps_next_1s                         flow_id  \n",
      "0           9420.70  876302.0         138.82  10.0.0.1:5201>10.0.0.2:55886/6  \n",
      "1              0.00       3.0           0.00  10.0.0.1:5201>10.0.0.2:55884/6  \n",
      "2            138.82  100020.0          36.72  10.0.0.1:5201>10.0.0.2:55886/6  \n"
     ]
    }
   ],
   "source": [
    "import os\n",
    "from urllib.parse import quote_plus\n",
    "from sqlalchemy import create_engine\n",
    "import pandas as pd\n",
    "import numpy as np\n",
    "\n",
    "HOST = os.getenv(\"DB_HOST\")\n",
    "PORT = os.getenv(\"DB_PORT\")\n",
    "DB   = os.getenv(\"DB_NAME\")\n",
    "USER = os.getenv(\"DB_USER\")\n",
    "PASS = quote_plus(os.getenv(\"DB_PASSWORD\") or \"\")  # por si hay caracteres especiales\n",
    "\n",
    "engine = create_engine(f\"postgresql+psycopg2://{USER}:{PASS}@{HOST}:{PORT}/{DB}\")\n",
    "Q = \"\"\"\n",
    "SELECT ts, src_ip, dst_ip, src_port, dst_port, protocol,\n",
    "       throughput_bps_t, pps_t, y_bps_next_1s\n",
    "FROM training_bps_h1s_v3\n",
    "WHERE y_bps_next_1s IS NOT NULL\n",
    "ORDER BY ts;\n",
    "\"\"\"\n",
    "df = pd.read_sql(Q, engine)\n",
    "\n",
    "# ID de flujo direccional (string-safe incluso si src_ip/dst_ip vienen como inet/IPv4Address)\n",
    "df[\"flow_id\"] = (df[\"src_ip\"].astype(str)+\":\"+df[\"src_port\"].astype(str)+\">\"+\n",
    "                 df[\"dst_ip\"].astype(str)+\":\"+df[\"dst_port\"].astype(str)+\"/\"+\n",
    "                 df[\"protocol\"].astype(str))\n",
    "\n",
    "# sanity check rápido\n",
    "print(df.shape, df.head(3))\n"
   ]
  },
  {
   "cell_type": "code",
   "execution_count": 11,
   "metadata": {},
   "outputs": [
    {
     "name": "stderr",
     "output_type": "stream",
     "text": [
      "C:\\Users\\ian\\AppData\\Local\\Temp\\ipykernel_8820\\2856443220.py:12: FutureWarning: DataFrameGroupBy.apply operated on the grouping columns. This behavior is deprecated, and in a future version of pandas the grouping columns will be excluded from the operation. Either pass `include_groups=False` to exclude the groupings or explicitly select the grouping columns after groupby to silence this warning.\n",
      "  df = df.groupby(\"flow_id\", group_keys=False).apply(add_lags_rolls).dropna()\n"
     ]
    }
   ],
   "source": [
    "def add_lags_rolls(g):\n",
    "    g = g.sort_values(\"ts\")\n",
    "    for k in [1,2,3,5]:\n",
    "        g[f\"thr_lag{k}\"] = g[\"throughput_bps_t\"].shift(k)\n",
    "        g[f\"pps_lag{k}\"] = g[\"pps_t\"].shift(k)\n",
    "    g[\"thr_ma_5\"]   = g[\"throughput_bps_t\"].rolling(5, min_periods=1).mean()\n",
    "    g[\"thr_std_5\"]  = g[\"throughput_bps_t\"].rolling(5, min_periods=2).std()\n",
    "    g[\"pps_ma_5\"]   = g[\"pps_t\"].rolling(5, min_periods=1).mean()\n",
    "    g[\"thr_slope5\"] = g[\"throughput_bps_t\"].diff(5) / 5.0\n",
    "    return g\n",
    "\n",
    "df = df.groupby(\"flow_id\", group_keys=False).apply(add_lags_rolls).dropna()\n",
    "\n",
    "FEATURES = [\n",
    "  \"throughput_bps_t\",\"pps_t\",\n",
    "  \"thr_lag1\",\"thr_lag2\",\"thr_lag3\",\"thr_lag5\",\n",
    "  \"pps_lag1\",\"pps_lag2\",\"pps_lag3\",\"pps_lag5\",\n",
    "  \"thr_ma_5\",\"thr_std_5\",\"pps_ma_5\",\"thr_slope5\"\n",
    "]\n",
    "TARGET = \"y_bps_next_1s\"\n",
    "X, y = df[FEATURES].values, df[TARGET].values\n"
   ]
  },
  {
   "cell_type": "code",
   "execution_count": 12,
   "metadata": {},
   "outputs": [
    {
     "name": "stdout",
     "output_type": "stream",
     "text": [
      "VAL h=1s  MAE=109 bps | RMSE=517 bps | RPE(y>0)=14709.43%\n"
     ]
    }
   ],
   "source": [
    "from xgboost import XGBRegressor\n",
    "from sklearn.metrics import mean_absolute_error, mean_squared_error\n",
    "import numpy as np\n",
    "\n",
    "cut = int(len(df)*0.8)\n",
    "X_tr, y_tr = X[:cut], y[:cut]\n",
    "X_va, y_va = X[cut:],  y[cut:]\n",
    "\n",
    "model = XGBRegressor(\n",
    "    objective=\"reg:squarederror\", tree_method=\"hist\",\n",
    "    n_estimators=700, learning_rate=0.05, max_depth=6,\n",
    "    subsample=0.8, colsample_bytree=0.8, random_state=42\n",
    ")\n",
    "model.fit(X_tr, y_tr, eval_set=[(X_va,y_va)], verbose=False)\n",
    "\n",
    "pred = model.predict(X_va)\n",
    "\n",
    "mae  = mean_absolute_error(y_va, pred)\n",
    "mse  = mean_squared_error(y_va, pred)     # sin 'squared'\n",
    "rmse = np.sqrt(mse)\n",
    "\n",
    "mask = y_va > 0\n",
    "rpe = float(np.mean(np.abs((pred[mask]-y_va[mask]) / y_va[mask]))) if mask.any() else np.nan\n",
    "\n",
    "print(f\"VAL h=1s  MAE={mae:,.0f} bps | RMSE={rmse:,.0f} bps | RPE(y>0)={100*rpe:.2f}%\")\n"
   ]
  },
  {
   "cell_type": "code",
   "execution_count": 13,
   "metadata": {},
   "outputs": [
    {
     "name": "stdout",
     "output_type": "stream",
     "text": [
      "Predicción next 1s (10.0.0.1:5201>10.0.0.2:55096/6 @ 2025-09-05 23:05:36+00:00): 0.01 Mbps\n"
     ]
    }
   ],
   "source": [
    "# tomá la última fila de un flujo activo para que tenga contexto útil\n",
    "last_active = df[df[\"throughput_bps_t\"]>0].sort_values(\"ts\").iloc[-1]\n",
    "yhat_next = model.predict(last_active[FEATURES].values.reshape(1,-1))[0]\n",
    "print(f\"Predicción next 1s ({last_active['flow_id']} @ {last_active['ts']}): {yhat_next/1e6:.2f} Mbps\")\n"
   ]
  },
  {
   "cell_type": "code",
   "execution_count": null,
   "metadata": {},
   "outputs": [],
   "source": [
    "#VALIDACION\n",
    "\n",
    "row = last_active  # la que usaste para predecir\n",
    "y_true = row[\"y_bps_next_1s\"]\n",
    "y_pred = yhat_next\n",
    "abs_err_bps = abs(y_true - y_pred)\n",
    "rel_err = abs_err_bps / y_true if y_true > 0 else np.nan\n",
    "\n",
    "print(f\"GT next 1s: {y_true/1e6:.2f} Mbps  |  Pred: {y_pred/1e6:.2f} Mbps\")\n",
    "print(f\"AbsErr: {abs_err_bps/1e6:.2f} Mbps  |  RelErr: {100*rel_err:.2f}%\")\n"
   ]
  }
 ],
 "metadata": {
  "kernelspec": {
   "display_name": "venv",
   "language": "python",
   "name": "python3"
  },
  "language_info": {
   "codemirror_mode": {
    "name": "ipython",
    "version": 3
   },
   "file_extension": ".py",
   "mimetype": "text/x-python",
   "name": "python",
   "nbconvert_exporter": "python",
   "pygments_lexer": "ipython3",
   "version": "3.13.5"
  }
 },
 "nbformat": 4,
 "nbformat_minor": 2
}
