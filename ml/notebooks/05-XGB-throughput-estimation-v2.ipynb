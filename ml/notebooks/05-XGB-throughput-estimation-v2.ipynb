{
 "cells": [
  {
   "cell_type": "code",
   "execution_count": 2,
   "metadata": {},
   "outputs": [
    {
     "name": "stdout",
     "output_type": "stream",
     "text": [
      "(15442, 10)                          ts    src_ip    dst_ip  src_port  dst_port  protocol  \\\n",
      "0 2025-09-05 20:58:12+00:00  10.0.0.1  10.0.0.2      5201     55886         6   \n",
      "1 2025-09-05 20:58:12+00:00  10.0.0.1  10.0.0.2      5201     55884         6   \n",
      "2 2025-09-05 20:58:13+00:00  10.0.0.1  10.0.0.2      5201     55886         6   \n",
      "\n",
      "   throughput_bps_t     pps_t  y_bps_next_1s                         flow_id  \n",
      "0           9420.70  876302.0         138.82  10.0.0.1:5201>10.0.0.2:55886/6  \n",
      "1              0.00       3.0           0.00  10.0.0.1:5201>10.0.0.2:55884/6  \n",
      "2            138.82  100020.0          36.72  10.0.0.1:5201>10.0.0.2:55886/6  \n"
     ]
    }
   ],
   "source": [
    "import os\n",
    "from urllib.parse import quote_plus\n",
    "from sqlalchemy import create_engine\n",
    "import pandas as pd\n",
    "import numpy as np\n",
    "from joblib import dump\n",
    "\n",
    "HOST = os.getenv(\"DB_HOST\")\n",
    "PORT = os.getenv(\"DB_PORT\")\n",
    "DB   = os.getenv(\"DB_NAME\")\n",
    "USER = os.getenv(\"DB_USER\")\n",
    "PASS = quote_plus(os.getenv(\"DB_PASSWORD\") or \"\")  # por si hay caracteres especiales\n",
    "\n",
    "engine = create_engine(f\"postgresql+psycopg2://{USER}:{PASS}@{HOST}:{PORT}/{DB}\")\n",
    "Q = \"\"\"\n",
    "SELECT ts, src_ip, dst_ip, src_port, dst_port, protocol,\n",
    "       throughput_bps_t, pps_t, y_bps_next_1s\n",
    "FROM training_bps_h1s_v3\n",
    "WHERE y_bps_next_1s IS NOT NULL\n",
    "ORDER BY ts;\n",
    "\"\"\"\n",
    "df = pd.read_sql(Q, engine)\n",
    "\n",
    "# ID de flujo direccional (string-safe incluso si src_ip/dst_ip vienen como inet/IPv4Address)\n",
    "df[\"flow_id\"] = (df[\"src_ip\"].astype(str)+\":\"+df[\"src_port\"].astype(str)+\">\"+\n",
    "                 df[\"dst_ip\"].astype(str)+\":\"+df[\"dst_port\"].astype(str)+\"/\"+\n",
    "                 df[\"protocol\"].astype(str))\n",
    "\n",
    "# sanity check rápido\n",
    "print(df.shape, df.head(3))\n"
   ]
  },
  {
   "cell_type": "code",
   "execution_count": 3,
   "metadata": {},
   "outputs": [
    {
     "name": "stderr",
     "output_type": "stream",
     "text": [
      "C:\\Users\\ian\\AppData\\Local\\Temp\\ipykernel_12388\\2856443220.py:12: FutureWarning: DataFrameGroupBy.apply operated on the grouping columns. This behavior is deprecated, and in a future version of pandas the grouping columns will be excluded from the operation. Either pass `include_groups=False` to exclude the groupings or explicitly select the grouping columns after groupby to silence this warning.\n",
      "  df = df.groupby(\"flow_id\", group_keys=False).apply(add_lags_rolls).dropna()\n"
     ]
    }
   ],
   "source": [
    "def add_lags_rolls(g):\n",
    "    g = g.sort_values(\"ts\")\n",
    "    for k in [1,2,3,5]:\n",
    "        g[f\"thr_lag{k}\"] = g[\"throughput_bps_t\"].shift(k)\n",
    "        g[f\"pps_lag{k}\"] = g[\"pps_t\"].shift(k)\n",
    "    g[\"thr_ma_5\"]   = g[\"throughput_bps_t\"].rolling(5, min_periods=1).mean()\n",
    "    g[\"thr_std_5\"]  = g[\"throughput_bps_t\"].rolling(5, min_periods=2).std()\n",
    "    g[\"pps_ma_5\"]   = g[\"pps_t\"].rolling(5, min_periods=1).mean()\n",
    "    g[\"thr_slope5\"] = g[\"throughput_bps_t\"].diff(5) / 5.0\n",
    "    return g\n",
    "\n",
    "df = df.groupby(\"flow_id\", group_keys=False).apply(add_lags_rolls).dropna()\n",
    "\n",
    "FEATURES = [\n",
    "  \"throughput_bps_t\",\"pps_t\",\n",
    "  \"thr_lag1\",\"thr_lag2\",\"thr_lag3\",\"thr_lag5\",\n",
    "  \"pps_lag1\",\"pps_lag2\",\"pps_lag3\",\"pps_lag5\",\n",
    "  \"thr_ma_5\",\"thr_std_5\",\"pps_ma_5\",\"thr_slope5\"\n",
    "]\n",
    "TARGET = \"y_bps_next_1s\"\n",
    "X, y = df[FEATURES].values, df[TARGET].values\n"
   ]
  },
  {
   "cell_type": "code",
   "execution_count": 4,
   "metadata": {},
   "outputs": [
    {
     "name": "stdout",
     "output_type": "stream",
     "text": [
      "VAL h=1s  MAE=109 bps | RMSE=517 bps | RPE(y>0)=14709.43%\n"
     ]
    }
   ],
   "source": [
    "from xgboost import XGBRegressor\n",
    "from sklearn.metrics import mean_absolute_error, mean_squared_error\n",
    "import numpy as np\n",
    "\n",
    "cut = int(len(df)*0.8)\n",
    "X_tr, y_tr = X[:cut], y[:cut]\n",
    "X_va, y_va = X[cut:],  y[cut:]\n",
    "\n",
    "model = XGBRegressor(\n",
    "    objective=\"reg:squarederror\", tree_method=\"hist\",\n",
    "    n_estimators=700, learning_rate=0.05, max_depth=6,\n",
    "    subsample=0.8, colsample_bytree=0.8, random_state=42\n",
    ")\n",
    "model.fit(X_tr, y_tr, eval_set=[(X_va,y_va)], verbose=False)\n",
    "\n",
    "pred = model.predict(X_va)\n",
    "\n",
    "mae  = mean_absolute_error(y_va, pred)\n",
    "mse  = mean_squared_error(y_va, pred)     # sin 'squared'\n",
    "rmse = np.sqrt(mse)\n",
    "\n",
    "mask = y_va > 0\n",
    "rpe = float(np.mean(np.abs((pred[mask]-y_va[mask]) / y_va[mask]))) if mask.any() else np.nan\n",
    "\n",
    "print(f\"VAL h=1s  MAE={mae:,.0f} bps | RMSE={rmse:,.0f} bps | RPE(y>0)={100*rpe:.2f}%\")\n"
   ]
  },
  {
   "cell_type": "code",
   "execution_count": 5,
   "metadata": {},
   "outputs": [
    {
     "name": "stdout",
     "output_type": "stream",
     "text": [
      "Predicción next 1s (10.0.0.1:5201>10.0.0.2:55096/6 @ 2025-09-05 23:05:36+00:00): 0.01 Mbps\n"
     ]
    },
    {
     "data": {
      "text/plain": [
       "['xgb_bps_h1s_v3.joblib']"
      ]
     },
     "execution_count": 5,
     "metadata": {},
     "output_type": "execute_result"
    }
   ],
   "source": [
    "# tomá la última fila de un flujo activo para que tenga contexto útil\n",
    "last_active = df[df[\"throughput_bps_t\"]>0].sort_values(\"ts\").iloc[-1]\n",
    "yhat_next = model.predict(last_active[FEATURES].values.reshape(1,-1))[0]\n",
    "print(f\"Predicción next 1s ({last_active['flow_id']} @ {last_active['ts']}): {yhat_next/1e6:.2f} Mbps\")\n",
    "\n",
    "# guardar modelo\n",
    "dump(model, \"xgb_bps_h1s_v3.joblib\")\n"
   ]
  },
  {
   "cell_type": "code",
   "execution_count": null,
   "metadata": {},
   "outputs": [
    {
     "name": "stdout",
     "output_type": "stream",
     "text": [
      "GT next 1s: 0.01 Mbps  |  Pred: 0.01 Mbps\n",
      "AbsErr: 0.00 Mbps  |  RelErr: 2.55%\n"
     ]
    }
   ],
   "source": [
    "#VALIDACION\n",
    "\n",
    "row = last_active  # la de la predicción\n",
    "y_true = row[\"y_bps_next_1s\"]\n",
    "y_pred = yhat_next\n",
    "abs_err_bps = abs(y_true - y_pred)\n",
    "rel_err = abs_err_bps / y_true if y_true > 0 else np.nan\n",
    "\n",
    "print(f\"GT next 1s: {y_true/1e6:.2f} Mbps  |  Pred: {y_pred/1e6:.2f} Mbps\")\n",
    "print(f\"AbsErr: {abs_err_bps/1e6:.2f} Mbps  |  RelErr: {100*rel_err:.2f}%\")\n"
   ]
  },
  {
   "cell_type": "code",
   "execution_count": null,
   "metadata": {},
   "outputs": [
    {
     "name": "stdout",
     "output_type": "stream",
     "text": [
      "[GLOBAL]   MAE=0.00 Mbps | RMSE=0.00 Mbps\n",
      "[BASELINE] MAE=0.00 Mbps | RMSE=0.00 Mbps\n",
      "Mejora vs baseline: MAE -239.9%  | RMSE -9.2%\n",
      "RPE (y>0): modelo=14709.43% | baseline=21.81%\n"
     ]
    }
   ],
   "source": [
    "from sklearn.metrics import mean_absolute_error, mean_squared_error\n",
    "\n",
    "# ya tenés: X_tr,y_tr,X_va,y_va, pred\n",
    "mae  = mean_absolute_error(y_va, pred)\n",
    "rmse = np.sqrt(mean_squared_error(y_va, pred))\n",
    "\n",
    "# Baseline (persistencia): ŷ = throughput_bps_t de la misma fila\n",
    "yhat_persist = df[\"throughput_bps_t\"].values[cut:]\n",
    "mae_p  = mean_absolute_error(y_va, yhat_persist)\n",
    "rmse_p = np.sqrt(mean_squared_error(y_va, yhat_persist))\n",
    "\n",
    "print(f\"[GLOBAL]   MAE={mae/1e6:.2f} Mbps | RMSE={rmse/1e6:.2f} Mbps\")\n",
    "print(f\"[BASELINE] MAE={mae_p/1e6:.2f} Mbps | RMSE={rmse_p/1e6:.2f} Mbps\")\n",
    "print(f\"Mejora vs baseline: MAE {100*(1-mae/mae_p):.1f}%  | RMSE {100*(1-rmse/rmse_p):.1f}%\")\n",
    "\n",
    "# Evaluación sólo cuando hay tráfico (y>0): error relativo (RPE)\n",
    "mask_pos = y_va > 0\n",
    "rpe_model = np.mean(np.abs((pred[mask_pos]-y_va[mask_pos]) / y_va[mask_pos])) if mask_pos.any() else np.nan\n",
    "rpe_base  = np.mean(np.abs((yhat_persist[mask_pos]-y_va[mask_pos]) / y_va[mask_pos])) if mask_pos.any() else np.nan\n",
    "print(f\"RPE (y>0): modelo={100*rpe_model:.2f}% | baseline={100*rpe_base:.2f}%\")\n"
   ]
  },
  {
   "cell_type": "code",
   "execution_count": null,
   "metadata": {},
   "outputs": [
    {
     "name": "stdout",
     "output_type": "stream",
     "text": [
      "\n",
      "Peores 10 flujos por MAE (bps):\n",
      "flow_id\n",
      "10.0.0.1:5201>10.0.0.2:38582/6    0.0\n",
      "10.0.0.1:5201>10.0.0.2:52632/6    0.0\n",
      "10.0.0.1:5201>10.0.0.2:55096/6    0.0\n",
      "10.0.0.1:5201>10.0.0.2:35222/6    0.0\n",
      "10.0.0.1:5201>10.0.0.2:47484/6    0.0\n",
      "10.0.0.1:5201>10.0.0.2:43050/6    0.0\n",
      "10.0.0.1:5201>10.0.0.2:45118/6    0.0\n",
      "10.0.0.1:5201>10.0.0.2:50566/6    0.0\n",
      "10.0.0.1:5201>10.0.0.2:48322/6    0.0\n",
      "10.0.0.1:5201>10.0.0.2:46848/6    0.0\n",
      "Name: abs_err, dtype: float64\n",
      "\n",
      "MAE por rango de throughput verdadero:\n",
      "bin\n",
      "0-1Mb         0.0\n",
      "1-10Mb        NaN\n",
      "10-100Mb      NaN\n",
      "100-1000Mb    NaN\n",
      ">1Gb          NaN\n",
      "Name: abs_err, dtype: float64\n"
     ]
    },
    {
     "name": "stderr",
     "output_type": "stream",
     "text": [
      "C:\\Users\\ian\\AppData\\Local\\Temp\\ipykernel_8820\\3974524931.py:17: FutureWarning: The default of observed=False is deprecated and will be changed to True in a future version of pandas. Pass observed=False to retain current behavior or observed=True to adopt the future default and silence this warning.\n",
      "  print((va.groupby(\"bin\")[\"abs_err\"].mean()/1e6).round(2))\n"
     ]
    }
   ],
   "source": [
    "va = df.iloc[cut:].copy()\n",
    "va[\"y_true\"] = y_va\n",
    "va[\"y_pred\"] = pred\n",
    "va[\"abs_err\"] = np.abs(va[\"y_pred\"] - va[\"y_true\"])\n",
    "\n",
    "# (a) Top flujos por error medio\n",
    "by_flow = (va.groupby(\"flow_id\")[\"abs_err\"]\n",
    "           .mean().sort_values(ascending=False).head(10))\n",
    "print(\"\\nPeores 10 flujos por MAE (bps):\")\n",
    "print((by_flow/1e6).round(2))  # en Mbps\n",
    "\n",
    "# (b) Por régimen: bins de throughput (true) en Mbps\n",
    "bins = [0, 1e6, 10e6, 100e6, 1e9, np.inf]  # 0-1, 1-10, 10-100, 100-1000 Mbps, >1 Gbps\n",
    "labels = [\"0-1Mb\",\"1-10Mb\",\"10-100Mb\",\"100-1000Mb\",\">1Gb\"]\n",
    "va[\"bin\"] = pd.cut(va[\"y_true\"], bins=bins, labels=labels, right=False)\n",
    "print(\"\\nMAE por rango de throughput verdadero:\")\n",
    "print((va.groupby(\"bin\")[\"abs_err\"].mean()/1e6).round(2))\n"
   ]
  },
  {
   "cell_type": "code",
   "execution_count": null,
   "metadata": {},
   "outputs": [
    {
     "data": {
      "image/png": "[encoded data removed]",
      "text/plain": [
       "<Figure size 640x480 with 1 Axes>"
      ]
     },
     "metadata": {},
     "output_type": "display_data"
    },
    {
     "data": {
      "image/png": "[encoded data removed]",
      "text/plain": [
       "<Figure size 640x480 with 1 Axes>"
      ]
     },
     "metadata": {},
     "output_type": "display_data"
    }
   ],
   "source": [
    "import matplotlib.pyplot as plt\n",
    "\n",
    "# y_true vs y_pred\n",
    "plt.figure()\n",
    "plt.scatter(va[\"y_true\"]/1e6, va[\"y_pred\"]/1e6, s=8, alpha=0.5)\n",
    "lims = [0, max(va[\"y_true\"].max(), va[\"y_pred\"].max())/1e6]\n",
    "plt.plot(lims, lims)\n",
    "plt.xlabel(\"y_true (Mbps)\"); plt.ylabel(\"y_pred (Mbps)\")\n",
    "plt.title(\"Calibración (val)\")\n",
    "plt.show()\n",
    "\n",
    "# residuo en el tiempo\n",
    "plt.figure()\n",
    "plt.plot(va[\"ts\"], (va[\"y_pred\"]-va[\"y_true\"])/1e6)\n",
    "plt.xlabel(\"ts\"); plt.ylabel(\"error (Mbps)\")\n",
    "plt.title(\"Error vs tiempo (val)\")\n",
    "plt.show()\n"
   ]
  },
  {
   "cell_type": "markdown",
   "metadata": {},
   "source": [
    "Training en tiempo real"
   ]
  },
  {
   "cell_type": "code",
   "execution_count": null,
   "metadata": {},
   "outputs": [],
   "source": [
    "import time\n",
    "from collections import deque, defaultdict\n",
    "from joblib import load\n",
    "\n",
    "HOST = os.getenv(\"DB_HOST\")\n",
    "PORT = os.getenv(\"DB_PORT\")\n",
    "DB   = os.getenv(\"DB_NAME\")\n",
    "USER = os.getenv(\"DB_USER\")\n",
    "PASS = os.getenv(\"DB_PASSWORD\")  \n",
    "\n",
    "engine = create_engine(f\"postgresql+psycopg2://{USER}:{PASS}@{HOST}:{PORT}/{DB}\")\n",
    "\n",
    "MODEL_PATH = os.getenv(\"MODEL_PATH\", \"xgb_bps_h1s_v3.joblib\")\n",
    "model = load(MODEL_PATH)\n",
    "\n",
    "WINDOW = 5  # ventana para lags/MA/STD/slope\n",
    "state_thr = defaultdict(lambda: deque(maxlen=WINDOW))\n",
    "state_pps = defaultdict(lambda: deque(maxlen=WINDOW))\n",
    "last_seen_ts = None  # Para polling incremental\n",
    "\n",
    "FEATURES = [\n",
    "  \"throughput_bps_t\",\"pps_t\",\n",
    "  \"thr_lag1\",\"thr_lag2\",\"thr_lag3\",\"thr_lag5\",\n",
    "  \"pps_lag1\",\"pps_lag2\",\"pps_lag3\",\"pps_lag5\",\n",
    "  \"thr_ma_5\",\"thr_std_5\",\"pps_ma_5\",\"thr_slope5\"\n",
    "]\n",
    "\n",
    "def flow_id(row):\n",
    "    return f\"{row['src_ip']}:{row['src_port']}>{row['dst_ip']}:{row['dst_port']}/{row['protocol']}\"\n",
    "\n",
    "def build_features(fid, thr_now, pps_now):\n",
    "    # buffers ya contienen históricos previos\n",
    "    thr_hist = state_thr[fid]\n",
    "    pps_hist = state_pps[fid]\n",
    "\n",
    "    # lags (1,2,3,5)\n",
    "    def lag(buf, k):\n",
    "        return buf[-k] if len(buf) >= k else np.nan\n",
    "\n",
    "    thr_lags = [lag(thr_hist, k) for k in [1,2,3,5]]\n",
    "    pps_lags = [lag(pps_hist, k) for k in [1,2,3,5]]\n",
    "\n",
    "    # incluir el valor actual para MA/STD\n",
    "    thr_vals = list(thr_hist) + [thr_now]\n",
    "    pps_vals = list(pps_hist) + [pps_now]\n",
    "\n",
    "    thr_ma_5  = float(np.mean(thr_vals[-WINDOW:]))\n",
    "    thr_std_5 = float(np.std(thr_vals[-WINDOW:], ddof=1)) if len(thr_vals[-WINDOW:]) >= 2 else 0.0\n",
    "    pps_ma_5  = float(np.mean(pps_vals[-WINDOW:]))\n",
    "\n",
    "    thr_slope5 = np.nan\n",
    "    if len(thr_hist) >= 5:\n",
    "        thr_slope5 = (thr_now - thr_hist[-5]) / 5.0\n",
    "\n",
    "    feats = [\n",
    "        thr_now, pps_now,\n",
    "        *thr_lags, *pps_lags,\n",
    "        thr_ma_5, thr_std_5, pps_ma_5, thr_slope5\n",
    "    ]\n",
    "    return np.array(feats, dtype=float)\n",
    "\n",
    "def have_enough_context(fid):\n",
    "    return len(state_thr[fid]) >= 5 and len(state_pps[fid]) >= 5\n",
    "\n",
    "def poll_new_rows(conn, last_ts):\n",
    "    base_q = \"\"\"\n",
    "    SELECT ts, src_ip, dst_ip, src_port, dst_port, protocol,\n",
    "           throughput_bps_t, packets\n",
    "    FROM flow_metrics_logs\n",
    "    WHERE ($1::timestamptz IS NULL OR ts > $1)\n",
    "    ORDER BY ts\n",
    "    LIMIT 2000;\n",
    "    \"\"\"\n",
    "    return pd.read_sql(base_q, conn, params=[last_ts])\n",
    "\n",
    "def upsert_preds(conn, batch_df):\n",
    "    if batch_df.empty:\n",
    "        return\n",
    "    # Inserta en bloque\n",
    "    with conn.begin() as tr:\n",
    "        batch_df.to_sql(\"pred_bps_h1s\", con=conn, if_exists=\"append\", index=False, method=\"multi\")\n",
    "\n",
    "# Loop principal de inferencia en tiempo real\n",
    "with engine.connect() as conn:\n",
    "    print(\"🟢 Iniciando inferencia en tiempo real (1s)...\")\n",
    "    while True:\n",
    "        batch = poll_new_rows(conn, last_seen_ts)\n",
    "        if not batch.empty:\n",
    "            preds_out = []\n",
    "            for _, row in batch.iterrows():\n",
    "                fid = flow_id(row)\n",
    "                thr_now = float(row[\"throughput_bps_t\"])\n",
    "                pps_now = float(row[\"pps_t\"])\n",
    "\n",
    "                # construir features y predecir SOLO si ya hay contexto suficiente\n",
    "                if have_enough_context(fid):\n",
    "                    feats = build_features(fid, thr_now, pps_now)\n",
    "                    if np.isnan(feats).any():\n",
    "                        # evitar NaNs residuales por si faltó algo raro\n",
    "                        pass\n",
    "                    else:\n",
    "                        yhat = float(model.predict(feats.reshape(1,-1))[0])\n",
    "                        preds_out.append({\n",
    "                            \"ts\": row[\"ts\"],\n",
    "                            \"src_ip\": row[\"src_ip\"], \"dst_ip\": row[\"dst_ip\"],\n",
    "                            \"src_port\": int(row[\"src_port\"]), \"dst_port\": int(row[\"dst_port\"]),\n",
    "                            \"protocol\": int(row[\"protocol\"]),\n",
    "                            \"throughput_bps_t\": thr_now, \"pps_t\": pps_now,\n",
    "                            \"yhat_bps_next_1s\": yhat,\n",
    "                        })\n",
    "\n",
    "                # actualizar estado (después de usar el valor actual)\n",
    "                state_thr[fid].append(thr_now)\n",
    "                state_pps[fid].append(pps_now)\n",
    "\n",
    "            # guarda predicciones\n",
    "            if preds_out:\n",
    "                upsert_preds(conn, pd.DataFrame(preds_out))\n",
    "                # log rápido\n",
    "                last = preds_out[-1]\n",
    "                print(f\"→ Pred @ {last['ts']} {fid}: {last['yhat_bps_next_1s']/1e6:.2f} Mbps\")\n",
    "\n",
    "            # avanza marca de agua\n",
    "            last_seen_ts = max(batch[\"ts\"])\n",
    "\n",
    "        # duerme medio segundo para latencias bajas de ingestión\n",
    "        time.sleep(0.5)\n"
   ]
  }
 ],
 "metadata": {
  "kernelspec": {
   "display_name": "venv",
   "language": "python",
   "name": "python3"
  },
  "language_info": {
   "codemirror_mode": {
    "name": "ipython",
    "version": 3
   },
   "file_extension": ".py",
   "mimetype": "text/x-python",
   "name": "python",
   "nbconvert_exporter": "python",
   "pygments_lexer": "ipython3",
   "version": "3.13.5"
  }
 },
 "nbformat": 4,
 "nbformat_minor": 2
}
