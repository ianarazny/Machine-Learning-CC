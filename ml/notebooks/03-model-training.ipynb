{
 "cells": [
  {
   "cell_type": "code",
   "execution_count": 1,
   "metadata": {},
   "outputs": [
    {
     "name": "stdout",
     "output_type": "stream",
     "text": [
      "Cantidad de registros: 179950\n"
     ]
    },
    {
     "data": {
      "text/html": [
       "<div>\n",
       "<style scoped>\n",
       "    .dataframe tbody tr th:only-of-type {\n",
       "        vertical-align: middle;\n",
       "    }\n",
       "\n",
       "    .dataframe tbody tr th {\n",
       "        vertical-align: top;\n",
       "    }\n",
       "\n",
       "    .dataframe thead th {\n",
       "        text-align: right;\n",
       "    }\n",
       "</style>\n",
       "<table border=\"1\" class=\"dataframe\">\n",
       "  <thead>\n",
       "    <tr style=\"text-align: right;\">\n",
       "      <th></th>\n",
       "      <th>wscale,rto,rtt,mss,pmtu,rcvmss,advmss,cwnd,ssthresh,bytes_sent,bytes_retrans,bytes_acked,segs_out,segs_in,data_segs_out,lastrcv,delivered,rcv_space,rcv_ssthresh,timestamp,throughput,packets_sent,packets_acked,packets_lost,loss_rate</th>\n",
       "    </tr>\n",
       "  </thead>\n",
       "  <tbody>\n",
       "    <tr>\n",
       "      <th>0</th>\n",
       "      <td>7.7,280,76.279,1448,1500,536,1448,14,52,26064,...</td>\n",
       "    </tr>\n",
       "    <tr>\n",
       "      <th>1</th>\n",
       "      <td>7.7,272,69.385,1448,1500,536,1448,4,52,37648,0...</td>\n",
       "    </tr>\n",
       "    <tr>\n",
       "      <th>2</th>\n",
       "      <td>7.7,240,39.996,1448,1500,536,1448,4,52,63712,0...</td>\n",
       "    </tr>\n",
       "    <tr>\n",
       "      <th>3</th>\n",
       "      <td>7.7,232,28.081,1448,1500,536,1448,14,52,101360...</td>\n",
       "    </tr>\n",
       "    <tr>\n",
       "      <th>4</th>\n",
       "      <td>7.7,248,45.456,1448,1500,536,1448,14,52,133216...</td>\n",
       "    </tr>\n",
       "  </tbody>\n",
       "</table>\n",
       "</div>"
      ],
      "text/plain": [
       "  wscale,rto,rtt,mss,pmtu,rcvmss,advmss,cwnd,ssthresh,bytes_sent,bytes_retrans,bytes_acked,segs_out,segs_in,data_segs_out,lastrcv,delivered,rcv_space,rcv_ssthresh,timestamp,throughput,packets_sent,packets_acked,packets_lost,loss_rate\n",
       "0  7.7,280,76.279,1448,1500,536,1448,14,52,26064,...                                                                                                                                                                                     \n",
       "1  7.7,272,69.385,1448,1500,536,1448,4,52,37648,0...                                                                                                                                                                                     \n",
       "2  7.7,240,39.996,1448,1500,536,1448,4,52,63712,0...                                                                                                                                                                                     \n",
       "3  7.7,232,28.081,1448,1500,536,1448,14,52,101360...                                                                                                                                                                                     \n",
       "4  7.7,248,45.456,1448,1500,536,1448,14,52,133216...                                                                                                                                                                                     "
      ]
     },
     "execution_count": 1,
     "metadata": {},
     "output_type": "execute_result"
    }
   ],
   "source": [
    "import pandas as pd\n",
    "import glob\n",
    "\n",
    "# Cargar todos los archivos de la variante BBR\n",
    "csv_files = glob.glob(\"../data_processed/bbr/*.log.csv\")\n",
    "df = pd.concat([pd.read_csv(f, sep=';') for f in csv_files], ignore_index=True)\n",
    "\n",
    "print(f\"Cantidad de registros: {df.shape[0]}\")\n",
    "df.head()\n"
   ]
  },
  {
   "cell_type": "code",
   "execution_count": null,
   "metadata": {},
   "outputs": [],
   "source": [
    "df['congestion_event'] = (df['cwnd'].diff().shift(-1) < -10).astype(int)\n",
    "df['congestion_event'].value_counts()\n"
   ]
  }
 ],
 "metadata": {
  "kernelspec": {
   "display_name": "venv",
   "language": "python",
   "name": "python3"
  },
  "language_info": {
   "codemirror_mode": {
    "name": "ipython",
    "version": 3
   },
   "file_extension": ".py",
   "mimetype": "text/x-python",
   "name": "python",
   "nbconvert_exporter": "python",
   "pygments_lexer": "ipython3",
   "version": "3.13.5"
  }
 },
 "nbformat": 4,
 "nbformat_minor": 2
}
